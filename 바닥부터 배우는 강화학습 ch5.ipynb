{
 "cells": [
  {
   "cell_type": "markdown",
   "id": "2093d578",
   "metadata": {},
   "source": [
    "# CHAPER 5 MDP를 모를 때 밸류 평가하기"
   ]
  },
  {
   "cell_type": "code",
   "execution_count": 1,
   "id": "2b71263d",
   "metadata": {},
   "outputs": [],
   "source": [
    "# 라이브러리 \n",
    "import random"
   ]
  },
  {
   "cell_type": "markdown",
   "id": "e744d068",
   "metadata": {},
   "source": [
    "### 몬테카를로 학습 구현"
   ]
  },
  {
   "cell_type": "code",
   "execution_count": 2,
   "id": "775170f6",
   "metadata": {},
   "outputs": [],
   "source": [
    "# Grid World 클래스\n",
    "\n",
    "class GridWorld():\n",
    "    def __init__(self):\n",
    "        self.x=0\n",
    "        self.y=0\n",
    "    \n",
    "    def step(self, a):\n",
    "        '''\n",
    "        에이전트로부터 액션을 받아서 상태 변이를 일으키고, 보상을 정해주는 함수\n",
    "        '''\n",
    "        if a==0:\n",
    "            self.move_right()\n",
    "        elif a==1:\n",
    "            self.move_left()\n",
    "        elif a==2:\n",
    "            self.move_up()\n",
    "        elif a==3:\n",
    "            self.move_down()\n",
    "            \n",
    "        reward = -1\n",
    "        done = self.is_done()\n",
    "        return (self.x, self.y), reward, done\n",
    "    \n",
    "    def move_right(self):\n",
    "        self.y += 1\n",
    "        if self.y > 3:\n",
    "            self.y = 3\n",
    "        \n",
    "    def move_left(self):\n",
    "        self.y -= 1\n",
    "        if self.y < 0:\n",
    "            self.y = 0\n",
    "        \n",
    "    def move_up(self):\n",
    "        self.x -= 1\n",
    "        if self.x < 0:\n",
    "            self.x = 0\n",
    "        \n",
    "    def move_down(self):\n",
    "        self.y += 1\n",
    "        if self.x > 3:\n",
    "            self.x = 3\n",
    "    \n",
    "    def is_done(self):\n",
    "        '''\n",
    "        에피소드가 끝났는지 판별해주는 함수\n",
    "        '''\n",
    "        if self.x == 3 and self.y == 3:\n",
    "            return True\n",
    "        else :\n",
    "            return False\n",
    "        \n",
    "    def get_state(self):\n",
    "        return (self.x, self.y)\n",
    "    \n",
    "    def reset(self):\n",
    "        '''\n",
    "        에이전트가 종료 상태에 도달했으면 다시 처름 상태로 돌려놓는 함수\n",
    "        '''\n",
    "        self.x = 0\n",
    "        self.y = 0\n",
    "        return (self.x, self.y)"
   ]
  },
  {
   "cell_type": "code",
   "execution_count": 3,
   "id": "878667ba",
   "metadata": {},
   "outputs": [],
   "source": [
    "# Agent 클래스\n",
    "\n",
    "class Agent():\n",
    "    def __init__(self):\n",
    "        pass\n",
    "    \n",
    "    def select_action(self):\n",
    "        coin = random.random()\n",
    "        if coin < 0.25:\n",
    "            action = 0\n",
    "        elif coin < 0.5:\n",
    "            action = 1\n",
    "        elif coin < 0.75:\n",
    "            action = 2\n",
    "        else:\n",
    "            action = 3\n",
    "        return action"
   ]
  },
  {
   "cell_type": "code",
   "execution_count": 4,
   "id": "5a7ec2ba",
   "metadata": {},
   "outputs": [],
   "source": [
    "# 메인 함수\n",
    "\n",
    "def main():\n",
    "    env = GridWorld()\n",
    "    agent = Agent()\n",
    "    data = [[0,0,0,0], [0,0,0,0], [0,0,0,0], [0,0,0,0]] # 테이블 초기화\n",
    "    gamma = 1.0 # 감쇄 인자\n",
    "    alpha = 0.0001 # 업데이트에 사용되는 파라미터\n",
    "    \n",
    "    for k in range(1): # 총 n번의 에피소드 진행\n",
    "        done = False\n",
    "        history = []\n",
    "        while not done: # 랜덤 에잌전트가 경험을 쌓는 과정\n",
    "            action = agent.select_action()\n",
    "            (x,y), reward, done = env.step(action)\n",
    "            history.append((x,y,reward))\n",
    "        env.reset()\n",
    "            \n",
    "        # 매 에피소드가 끝나고 바로 해당 데이터를 이용해 테이블을 업데이트\n",
    "        cum_reward = 0\n",
    "        for transition in history[::-1]:\n",
    "            # 방문했던 상태들을 뒤애서부터 보며 차례차례 리턴을 계산\n",
    "            x, y, reward = transition\n",
    "            data[x][y] = data[x][y] + alpha*(cum_reward-data[x][y])\n",
    "            cum_reward = cum_reward + gamma+reward\n",
    "            \n",
    "    # 학습이 끝나고 난 후 데이터를 출력해보기 위한 코드\n",
    "    for row in data:\n",
    "        print(row)"
   ]
  },
  {
   "cell_type": "code",
   "execution_count": 5,
   "id": "7b94f163",
   "metadata": {},
   "outputs": [],
   "source": [
    "# main()"
   ]
  },
  {
   "cell_type": "markdown",
   "id": "6800ebcb",
   "metadata": {},
   "source": [
    "### Temporal Difference 학습 구현"
   ]
  },
  {
   "cell_type": "code",
   "execution_count": 6,
   "id": "a9c5e331",
   "metadata": {},
   "outputs": [],
   "source": [
    "# 메인 함수\n",
    "\n",
    "def main():\n",
    "    env = GridWorld()\n",
    "    agent = Agent()\n",
    "    data = [[0,0,0,0], [0,0,0,0], [0,0,0,0], [0,0,0,0]] # 테이블 초기화\n",
    "    gamma = 1.0 # 감쇄 인자\n",
    "    alpha = 0.01 # MC에 비해 큰 값을 사용\n",
    "    \n",
    "    for k in range(1): # 총 n번의 에피소드 진행\n",
    "        done = False\n",
    "        while not done: # 랜덤 에잌전트가 경험을 쌓는 과정\n",
    "            x, y = env.get_state()\n",
    "            action = agent.select_action()\n",
    "            (x_prime,y_prime), reward, done = env.step(action)\n",
    "            x_prime, y_prime = env.get_state()\n",
    "            \n",
    "            # 한 번의 step이 진행되자 말자 바로 테이블의 데이터를 업데이트 해줌\n",
    "            data[x][y] = data[x][y] + alpha*(reward+gamma*data[x_prime][y_prime]-data[x][y])\n",
    "        env.reset()\n",
    "            \n",
    "    # 학습이 끝나고 난 후 데이터를 출력해보기 위한 코드\n",
    "    for row in data:\n",
    "        print(row)"
   ]
  },
  {
   "cell_type": "code",
   "execution_count": null,
   "id": "a9575da9",
   "metadata": {},
   "outputs": [],
   "source": [
    "# main()"
   ]
  }
 ],
 "metadata": {
  "kernelspec": {
   "display_name": "Python 3",
   "language": "python",
   "name": "python3"
  },
  "language_info": {
   "codemirror_mode": {
    "name": "ipython",
    "version": 3
   },
   "file_extension": ".py",
   "mimetype": "text/x-python",
   "name": "python",
   "nbconvert_exporter": "python",
   "pygments_lexer": "ipython3",
   "version": "3.8.8"
  }
 },
 "nbformat": 4,
 "nbformat_minor": 5
}
